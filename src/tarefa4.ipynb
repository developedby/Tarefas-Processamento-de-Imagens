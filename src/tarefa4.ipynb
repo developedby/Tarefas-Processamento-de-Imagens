{
 "cells": [
  {
   "cell_type": "code",
   "execution_count": null,
   "metadata": {},
   "outputs": [],
   "source": [
    "\"\"\"Tarefa 3 de processamento digital de imagens\n",
    "Descrição: Implementa efeito bloom\n",
    "Autores: Nicolas Abril e Álefe Felipe Gonçalves Dias\n",
    "Professor: Bogdan Nassu\n",
    "Engenharia de Computação UTFPR-CT\n",
    "09/2019\n",
    "\"\"\"\n",
    "import time\n",
    "import cv2\n",
    "import numpy as np\n",
    "from pdi import unsharp, labelize, uint8_to_float\n",
    "from matplotlib import pyplot as plt\n",
    "\n",
    "# Parâmetros\n",
    "IMAGE_FOLDER = \"../img/tarefa4\"\n",
    "INPUT_IMAGE = \"205.bmp\"\n",
    "\n",
    "UNSHARP_SIGMA_DIVIDER = 200\n",
    "UNSHARP_WEIGHT = 1\n",
    "THRESHOLD = 240\n",
    "AREA_CUTOFF = 0.2\n",
    "AREA_CORRECTION = [0.02, 0.01, 0.002]"
   ]
  },
  {
   "cell_type": "code",
   "execution_count": null,
   "metadata": {},
   "outputs": [],
   "source": [
    "# Abre a imagem\n",
    "img = cv2.imread(f\"{IMAGE_FOLDER}/{INPUT_IMAGE}\", cv2.IMREAD_COLOR)\n",
    "if img is None:\n",
    "    print(\"Erro ao abrir a imagem\")\n",
    "h, w, _ = img.shape\n",
    "gray = cv2.cvtColor(img, cv2.COLOR_BGR2GRAY)\n",
    "plt.imshow(gray, cmap='gray')"
   ]
  },
  {
   "cell_type": "code",
   "execution_count": null,
   "metadata": {},
   "outputs": [],
   "source": [
    "norma = cv2.normalize(gray, None, 0, 255, cv2.NORM_MINMAX)\n",
    "sharp = unsharp(norma, 2*(max(w, h)//UNSHARP_SIGMA_DIVIDER)+1, UNSHARP_WEIGHT)\n",
    "\n",
    "fig = plt.figure(figsize=(10, 10))\n",
    "fig.add_subplot(1, 2, 1)\n",
    "plt.axis('off')\n",
    "plt.imshow(norma, cmap='gray')\n",
    "fig.add_subplot(1, 2, 2)\n",
    "plt.axis('off')\n",
    "plt.imshow(sharp, cmap='gray')"
   ]
  },
  {
   "cell_type": "code",
   "execution_count": null,
   "metadata": {},
   "outputs": [],
   "source": [
    "_, thresh = cv2.threshold(sharp, THRESHOLD, 255, cv2.THRESH_BINARY)\n",
    "#cv2.imwrite(f\"{IMAGE_FOLDER}/thresh.bmp\", thresh)\n",
    "plt.imshow(thresh, cmap='gray')"
   ]
  },
  {
   "cell_type": "code",
   "execution_count": null,
   "metadata": {},
   "outputs": [],
   "source": [
    "kernel = cv2.getStructuringElement(cv2.MORPH_RECT, (3, 3))\n",
    "open_ = cv2.morphologyEx(thresh, cv2.MORPH_OPEN, kernel)\n",
    "#cv2.imwrite(f\"{IMAGE_FOLDER}/open.bmp\", open_)\n",
    "plt.figure(figsize=(10,10))\n",
    "plt.imshow(open_, cmap='gray')"
   ]
  },
  {
   "cell_type": "code",
   "execution_count": null,
   "metadata": {
    "scrolled": true
   },
   "outputs": [],
   "source": [
    "f_img = uint8_to_float(open_)\n",
    "components = labelize(f_img)\n",
    "print(len(components))"
   ]
  },
  {
   "cell_type": "code",
   "execution_count": null,
   "metadata": {},
   "outputs": [],
   "source": [
    "areas = np.array(list(map(len, components)))\n",
    "print(areas)\n",
    "median = np.median(areas)\n",
    "print(median)\n",
    "rel_areas = areas / median\n",
    "print(rel_areas)"
   ]
  },
  {
   "cell_type": "code",
   "execution_count": null,
   "metadata": {},
   "outputs": [],
   "source": [
    "corrected_areas = rel_areas[rel_areas > AREA_CUTOFF]\n",
    "poly_correction = np.zeros(corrected_areas.shape)\n",
    "for order, weight in enumerate(AREA_CORRECTION):\n",
    "    order_n_correction = np.power(corrected_areas, order+1)*weight\n",
    "    poly_correction += order_n_correction\n",
    "corrected_areas += poly_correction\n",
    "corrected_areas = np.round(corrected_areas).astype(int)\n",
    "print(len(corrected_areas))\n",
    "print(corrected_areas)"
   ]
  },
  {
   "cell_type": "code",
   "execution_count": null,
   "metadata": {},
   "outputs": [],
   "source": [
    "num_rice = 0\n",
    "for area in corrected_areas:\n",
    "    if area < 1:\n",
    "        num_rice += 1\n",
    "    else:\n",
    "        num_rice += int(round(area))\n",
    "print(num_rice)"
   ]
  },
  {
   "cell_type": "code",
   "execution_count": null,
   "metadata": {},
   "outputs": [],
   "source": []
  }
 ],
 "metadata": {
  "kernelspec": {
   "display_name": "Python 3",
   "language": "python3",
   "name": "python3"
  },
  "language_info": {
   "codemirror_mode": {
    "name": "ipython",
    "version": 3
   },
   "file_extension": ".py",
   "mimetype": "text/x-python",
   "name": "python",
   "nbconvert_exporter": "python",
   "pygments_lexer": "ipython3",
   "version": "3.6.9"
  }
 },
 "nbformat": 4,
 "nbformat_minor": 2
}
